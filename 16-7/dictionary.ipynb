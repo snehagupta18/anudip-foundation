{
 "cells": [
  {
   "cell_type": "code",
   "execution_count": 1,
   "id": "de0ddf45-0573-48b9-ba0c-8920974b4bb6",
   "metadata": {},
   "outputs": [],
   "source": [
    "student={'stdid':'std101','stdname':'ashish kumar','standard':'10th','age':15}"
   ]
  },
  {
   "cell_type": "code",
   "execution_count": 2,
   "id": "66656ab2-f8e9-472c-8dd2-3fd7bf42928b",
   "metadata": {},
   "outputs": [
    {
     "data": {
      "text/plain": [
       "dict_keys(['stdid', 'stdname', 'standard', 'age'])"
      ]
     },
     "execution_count": 2,
     "metadata": {},
     "output_type": "execute_result"
    }
   ],
   "source": [
    "student.keys()"
   ]
  },
  {
   "cell_type": "code",
   "execution_count": 6,
   "id": "f7d54e65-297e-4d06-b1b6-e725d462c3f4",
   "metadata": {},
   "outputs": [
    {
     "data": {
      "text/plain": [
       "dict_values(['std101', 'ashish kumar', '10th', 15])"
      ]
     },
     "execution_count": 6,
     "metadata": {},
     "output_type": "execute_result"
    }
   ],
   "source": [
    "student.values()"
   ]
  },
  {
   "cell_type": "code",
   "execution_count": 9,
   "id": "8257a8a0-bb2f-435f-90af-b070ef9f5058",
   "metadata": {},
   "outputs": [
    {
     "data": {
      "text/plain": [
       "dict_items([('stdid', 'std101'), ('stdname', 'ashish kumar'), ('standard', '10th'), ('age', 15)])"
      ]
     },
     "execution_count": 9,
     "metadata": {},
     "output_type": "execute_result"
    }
   ],
   "source": [
    "student.items()"
   ]
  },
  {
   "cell_type": "code",
   "execution_count": 11,
   "id": "6971f821-c3c2-40d7-8530-6637e0f4e854",
   "metadata": {},
   "outputs": [
    {
     "data": {
      "text/plain": [
       "('age', 15)"
      ]
     },
     "execution_count": 11,
     "metadata": {},
     "output_type": "execute_result"
    }
   ],
   "source": [
    "student.popitem()"
   ]
  },
  {
   "cell_type": "code",
   "execution_count": 12,
   "id": "2da3b903-4298-4f82-a5f8-38ec79304fc6",
   "metadata": {},
   "outputs": [
    {
     "data": {
      "text/plain": [
       "{'stdid': 'std101', 'stdname': 'ashish kumar', 'standard': '10th'}"
      ]
     },
     "execution_count": 12,
     "metadata": {},
     "output_type": "execute_result"
    }
   ],
   "source": [
    "student"
   ]
  },
  {
   "cell_type": "code",
   "execution_count": 16,
   "id": "4780bb58-9ca6-44b9-af46-70dfb3b45ad7",
   "metadata": {},
   "outputs": [
    {
     "data": {
      "text/plain": [
       "'ashish kumar'"
      ]
     },
     "execution_count": 16,
     "metadata": {},
     "output_type": "execute_result"
    }
   ],
   "source": [
    "student.get('stdname','not found')"
   ]
  },
  {
   "cell_type": "code",
   "execution_count": 17,
   "id": "3f3531c9-556f-4abb-b4be-d287726505dd",
   "metadata": {},
   "outputs": [
    {
     "data": {
      "text/plain": [
       "'not found!!'"
      ]
     },
     "execution_count": 17,
     "metadata": {},
     "output_type": "execute_result"
    }
   ],
   "source": [
    "student.get('age','not found!!')"
   ]
  },
  {
   "cell_type": "code",
   "execution_count": 18,
   "id": "d7dd61cf-4fce-49b6-98d3-bc576bda265c",
   "metadata": {},
   "outputs": [
    {
     "data": {
      "text/plain": [
       "{'name': 'amit', 'age': 15, 'standard': '10th', 'hindi': 67}"
      ]
     },
     "execution_count": 18,
     "metadata": {},
     "output_type": "execute_result"
    }
   ],
   "source": [
    "dictobj1={\"name\":\"amit\",\"age\":15,\"standard\":\"10th\"}\n",
    "dictobj1[\"hindi\"]=67\n",
    "dictobj1"
   ]
  },
  {
   "cell_type": "code",
   "execution_count": 20,
   "id": "9b30f81a-53fc-4a3d-a1b9-3ba871e5f322",
   "metadata": {},
   "outputs": [
    {
     "data": {
      "text/plain": [
       "{'stdid': 'std101',\n",
       " 'stdname': 'ashish kumar',\n",
       " 'standard': '10th',\n",
       " 'name': 'amit',\n",
       " 'age': 15,\n",
       " 'hindi': 67}"
      ]
     },
     "execution_count": 20,
     "metadata": {},
     "output_type": "execute_result"
    }
   ],
   "source": [
    "student.update(dictobj1)\n",
    "student"
   ]
  },
  {
   "cell_type": "code",
   "execution_count": 21,
   "id": "c9564b5f-f156-472c-b3b1-28537c259b56",
   "metadata": {},
   "outputs": [
    {
     "data": {
      "text/plain": [
       "6"
      ]
     },
     "execution_count": 21,
     "metadata": {},
     "output_type": "execute_result"
    }
   ],
   "source": [
    "len(student)"
   ]
  },
  {
   "cell_type": "code",
   "execution_count": 27,
   "id": "c9ef3679-6b74-44df-bd60-dd8e9c555662",
   "metadata": {},
   "outputs": [],
   "source": [
    "s=['a','b','c']"
   ]
  },
  {
   "cell_type": "code",
   "execution_count": 24,
   "id": "76ac1577-e224-482e-84de-3f140f383281",
   "metadata": {},
   "outputs": [
    {
     "data": {
      "text/plain": [
       "{'s': 'std101', 't': 'std101', 'd': 'std101', 'i': 'std101'}"
      ]
     },
     "execution_count": 24,
     "metadata": {},
     "output_type": "execute_result"
    }
   ],
   "source": [
    "student.fromkeys('stdid',\"std101\")"
   ]
  },
  {
   "cell_type": "code",
   "execution_count": 29,
   "id": "d3061d32-a8fd-4a07-97c1-020f22d2683e",
   "metadata": {},
   "outputs": [
    {
     "data": {
      "text/plain": [
       "{'a': 'std101', 'b': 'std101', 'c': 'std101'}"
      ]
     },
     "execution_count": 29,
     "metadata": {},
     "output_type": "execute_result"
    }
   ],
   "source": [
    "student.fromkeys(s,'std101')"
   ]
  },
  {
   "cell_type": "code",
   "execution_count": null,
   "id": "0c33ad6d-3794-4f14-acb2-0bce37abc616",
   "metadata": {},
   "outputs": [],
   "source": []
  }
 ],
 "metadata": {
  "kernelspec": {
   "display_name": "Python 3 (ipykernel)",
   "language": "python",
   "name": "python3"
  },
  "language_info": {
   "codemirror_mode": {
    "name": "ipython",
    "version": 3
   },
   "file_extension": ".py",
   "mimetype": "text/x-python",
   "name": "python",
   "nbconvert_exporter": "python",
   "pygments_lexer": "ipython3",
   "version": "3.11.9"
  }
 },
 "nbformat": 4,
 "nbformat_minor": 5
}
